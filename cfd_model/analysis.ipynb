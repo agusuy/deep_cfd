{
 "cells": [
  {
   "cell_type": "code",
   "execution_count": null,
   "metadata": {},
   "outputs": [],
   "source": [
    "import numpy as np\n",
    "from keras.models import load_model\n",
    "from cfd_dataset import get_dataset\n",
    "from cfd_model import generate_sequence, generate_sequences\n",
    "from plot_functions import *\n",
    "\n",
    "WINDOW = 5\n",
    "DATASET_FILE = \"../dataset/dataset_2024_04_06.npy\"\n",
    "MODEL_FILE = \"./models/model_20240411_1543.h5\""
   ]
  },
  {
   "cell_type": "code",
   "execution_count": null,
   "metadata": {},
   "outputs": [],
   "source": [
    "dataset, X_train, y_train, X_val, y_val = get_dataset(DATASET_FILE)"
   ]
  },
  {
   "cell_type": "code",
   "execution_count": null,
   "metadata": {},
   "outputs": [],
   "source": [
    "model = load_model(MODEL_FILE)\n",
    "# model.summary()"
   ]
  },
  {
   "cell_type": "code",
   "execution_count": null,
   "metadata": {},
   "outputs": [],
   "source": [
    "training_evaluation = model.evaluate(X_train, [X_train, y_train])\n",
    "testing_evaluation = model.evaluate(X_val, [X_val, y_val])"
   ]
  },
  {
   "cell_type": "code",
   "execution_count": null,
   "metadata": {},
   "outputs": [],
   "source": [
    "# Visualize Encoder-Decoder\n",
    "example_sequence = X_train[100].copy()\n",
    "# print(\"example_sequence:\", np.min(example_sequence), np.max(example_sequence), np.mean(example_sequence), np.median(example_sequence), np.var(example_sequence))\n",
    "\n",
    "reconstructed_sequence = model.predict(np.expand_dims(example_sequence, axis=0), verbose=0)[0][0]\n",
    "# print(\"reconstructed_sequence:\", np.min(reconstructed_sequence), np.max(reconstructed_sequence), np.mean(reconstructed_sequence), np.median(reconstructed_sequence), np.var(reconstructed_sequence))\n",
    "\n",
    "for i in range(len(example_sequence)):\n",
    "    original = example_sequence[i]\n",
    "    preprocess_frame(original)\n",
    "    reconstructed = reconstructed_sequence[i]\n",
    "    preprocess_frame(reconstructed)\n",
    "    plot_compare_frames(original, reconstructed, f\"Original {i}\", f\"Reconstructed {i}\", show_color_var=True, orientation=\"v\")"
   ]
  },
  {
   "cell_type": "code",
   "execution_count": null,
   "metadata": {},
   "outputs": [],
   "source": [
    "# Visualize Encoded\n",
    "example_sequence = X_train[100].copy()\n",
    "example_frame = example_sequence[0].copy()\n",
    "\n",
    "preprocess_frame(example_frame)\n",
    "plot_frame(example_frame, \"Original Frame\")\n",
    "\n",
    "# Visualize Reconstructed\n",
    "example_sequence = X_train[100].copy()\n",
    "\n",
    "reconstructed_sequence = model.predict(np.expand_dims(example_sequence, axis=0), verbose=0)[0][0]\n",
    "reconstructed_frame = reconstructed_sequence[0]\n",
    "\n",
    "preprocess_frame(reconstructed_frame)\n",
    "plot_frame(reconstructed_frame, \"Reconstructed Frame\")"
   ]
  },
  {
   "cell_type": "code",
   "execution_count": null,
   "metadata": {},
   "outputs": [],
   "source": [
    "# Reconstructed Histogram\n",
    "example_sequence = X_train[100].copy()\n",
    "example_frame = example_sequence[0].copy()\n",
    "reconstructed_sequence = model.predict(np.expand_dims(example_sequence, axis=0), verbose=0)[0][0]\n",
    "reconstructed_frame = reconstructed_sequence[0]\n",
    "\n",
    "preprocess_frame(example_frame)\n",
    "preprocess_frame(reconstructed_frame)\n",
    "\n",
    "plot_frame_histogram(example_frame, \"Histogram Encoded Frame\")\n",
    "\n",
    "plot_frame_histogram(reconstructed_frame, \"Histogram Reconstructed Frame\")\n"
   ]
  },
  {
   "cell_type": "code",
   "execution_count": null,
   "metadata": {},
   "outputs": [],
   "source": [
    "# Compare histograms\n",
    "example_sequence = X_train[100].copy()\n",
    "frame = example_sequence[0].copy()\n",
    "predicted_sequence = model.predict(np.expand_dims(example_sequence, axis=0), verbose=0)[0]\n",
    "predicted_frame = predicted_sequence[0][0]\n",
    "frame_min=np.min(frame[frame!=-1])\n",
    "frame_max=np.max(frame)\n",
    "\n",
    "frame_data = frame.flatten()\n",
    "predicted_data = predicted_frame.flatten()\n",
    "\n",
    "frame_data = np.delete(frame_data, np.where(frame_data == -1))\n",
    "\n",
    "predicted_data = np.delete(predicted_data, np.where(predicted_data<frame_min))\n",
    "predicted_data = np.delete(predicted_data, np.where(predicted_data>frame_max))\n",
    "\n",
    "\n",
    "hist_frame, bin_edges_frame = np.histogram(frame_data, bins='auto')\n",
    "bin_center_frame = (bin_edges_frame[:-1] + bin_edges_frame[1:])/2\n",
    "hist_predicted, bin_edges_predicted = np.histogram(predicted_data, bins='auto')\n",
    "bin_center_predicted = (bin_edges_predicted[:-1] + bin_edges_predicted[1:])/2\n",
    "\n",
    "plt.figure()\n",
    "plt.figure(figsize=(20,6))\n",
    "plt.errorbar(bin_center_frame, hist_frame, yerr=0, fmt='.', color=\"green\")\n",
    "plt.errorbar(bin_center_predicted, hist_predicted, yerr=0, fmt='|', color=\"blue\")\n",
    "plt.show()"
   ]
  },
  {
   "cell_type": "code",
   "execution_count": null,
   "metadata": {},
   "outputs": [],
   "source": [
    "# Visualize residuals\n",
    "example_sequence = X_train[100].copy()\n",
    "frame = example_sequence[0].copy()\n",
    "predicted_sequence = model.predict(np.expand_dims(example_sequence, axis=0), verbose=0)[0]\n",
    "predicted_frame = predicted_sequence[0][0]\n",
    "\n",
    "# residual = np.abs(frame - predicted_frame)\n",
    "residual = np.square(frame - predicted_frame)\n",
    "\n",
    "plt.clf()\n",
    "plt.imshow(np.squeeze(residual).transpose(), cmap=\"Grays\")\n",
    "plt.colorbar(label=\"error\", orientation=\"horizontal\")"
   ]
  },
  {
   "cell_type": "code",
   "execution_count": null,
   "metadata": {},
   "outputs": [],
   "source": [
    "# Use the model to generate a sequence\n",
    "sequence_id = 3\n",
    "example_sequence = dataset[sequence_id].copy()\n",
    "generated_sequence = generate_sequence(model, example_sequence, WINDOW)\n",
    "\n",
    "print(example_sequence.shape)\n",
    "print(generated_sequence.shape)"
   ]
  },
  {
   "cell_type": "code",
   "execution_count": null,
   "metadata": {},
   "outputs": [],
   "source": [
    "# Plot original vs generated frames\n",
    "limit = 20\n",
    "# limit = len(example_sequence)\n",
    "\n",
    "for i in range(limit):\n",
    "    original = example_sequence[i]\n",
    "    preprocess_frame(original)\n",
    "    generated = generated_sequence[i]\n",
    "    preprocess_frame(generated)\n",
    "    \n",
    "    plot_compare_frames(original, generated, f\"Original {i}\", f\"Generated {i}\", show_color_var=False, orientation=\"v\")"
   ]
  },
  {
   "cell_type": "code",
   "execution_count": null,
   "metadata": {},
   "outputs": [],
   "source": [
    "# get only the first 4 sequences in the dataset\n",
    "_dataset = dataset[:2].copy()"
   ]
  },
  {
   "cell_type": "code",
   "execution_count": null,
   "metadata": {},
   "outputs": [],
   "source": [
    "# Use the model to generate all sequences in the dataset\n",
    "generated_dataset = generate_sequences(model, _dataset, WINDOW)\n",
    "\n",
    "print(_dataset.shape)\n",
    "print(generated_dataset.shape)"
   ]
  }
 ],
 "metadata": {
  "kernelspec": {
   "display_name": "cfd_env",
   "language": "python",
   "name": "python3"
  },
  "language_info": {
   "codemirror_mode": {
    "name": "ipython",
    "version": 3
   },
   "file_extension": ".py",
   "mimetype": "text/x-python",
   "name": "python",
   "nbconvert_exporter": "python",
   "pygments_lexer": "ipython3",
   "version": "3.9.2"
  }
 },
 "nbformat": 4,
 "nbformat_minor": 2
}
