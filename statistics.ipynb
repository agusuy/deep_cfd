{
 "cells": [
  {
   "cell_type": "code",
   "execution_count": null,
   "metadata": {},
   "outputs": [],
   "source": [
    "import numpy as np\n",
    "import matplotlib.pyplot as plt\n",
    "from cfd_simulation.constants import SIM_STATS\n",
    "from cfd_model.constants import MODEL_STATS"
   ]
  },
  {
   "cell_type": "code",
   "execution_count": null,
   "metadata": {},
   "outputs": [],
   "source": [
    "simulation_durations = np.loadtxt(SIM_STATS, delimiter=',', skiprows=1)[:,1]\n",
    "model_durations = np.loadtxt(MODEL_STATS, delimiter=',', skiprows=1)[:,1]\n",
    "model_errors = np.loadtxt(MODEL_STATS, delimiter=',', skiprows=1)[:,2]"
   ]
  },
  {
   "cell_type": "code",
   "execution_count": null,
   "metadata": {},
   "outputs": [],
   "source": [
    "def plot_bar_groups(groups, statistics, stat_name):\n",
    "    \n",
    "    x = np.arange(len(groups))  # the label locations\n",
    "    width = 0.25  # the width of the bars\n",
    "    multiplier = 0\n",
    "\n",
    "    fig, ax = plt.subplots(layout='constrained')\n",
    "\n",
    "    y_limit = 0\n",
    "    for attribute, stat in statistics.items():\n",
    "        offset = width * multiplier\n",
    "        rects = ax.bar(x + offset, stat, width, label=attribute)\n",
    "        ax.bar_label(rects, padding=3)\n",
    "        multiplier += 1\n",
    "\n",
    "        if(max(stat) > y_limit):\n",
    "            y_limit = max(stat)\n",
    "\n",
    "    # Add some text for labels, title and custom x-axis tick labels, etc.\n",
    "    ax.set_ylabel(stat_name)\n",
    "    ax.set_title('')\n",
    "    ax.set_xticks(x + width, groups)\n",
    "    ax.legend(loc='upper left', ncols=3)\n",
    "    ax.set_ylim(0, y_limit+y_limit/4)\n",
    "\n",
    "    plt.show()"
   ]
  },
  {
   "cell_type": "code",
   "execution_count": null,
   "metadata": {},
   "outputs": [],
   "source": [
    "simulation_duration_average = round(np.average(simulation_durations), 0)\n",
    "simulation_duration_min = round(np.min(simulation_durations), 0)\n",
    "simulation_duration_max = round(np.max(simulation_durations), 0)\n",
    "\n",
    "model_duration_average = round(np.average(model_durations), 0)\n",
    "model_duration_min = round(np.min(model_durations), 0)\n",
    "model_duration_max = round(np.max(model_durations), 0)\n",
    "\n",
    "groups = (\"Simulation\", \"DL Model\")\n",
    "statistics = {\n",
    "    \"Min\": (simulation_duration_min, model_duration_min),\n",
    "    \"Average\": (simulation_duration_average, model_duration_average),\n",
    "    \"Max\": (simulation_duration_max, model_duration_max),\n",
    "}\n",
    "\n",
    "plot_bar_groups(groups, statistics, 'Duration (seconds)')"
   ]
  },
  {
   "cell_type": "code",
   "execution_count": null,
   "metadata": {},
   "outputs": [],
   "source": [
    "\n",
    "model_error_average = np.average(model_errors)\n",
    "model_error_min = np.min(model_errors)\n",
    "model_error_max = np.max(model_errors)\n",
    "\n",
    "circumference_errors = []\n",
    "ellipse_errors = []\n",
    "\n",
    "for i, error in enumerate(model_errors):\n",
    "    if(i<(len(model_errors)/2)):\n",
    "        circumference_errors.append(error)\n",
    "    else:\n",
    "        ellipse_errors.append(error)\n",
    "\n",
    "model_error_average_circumference = np.average(circumference_errors)\n",
    "model_error_min_circumference = np.min(circumference_errors)\n",
    "model_error_max_circumference = np.max(circumference_errors)\n",
    "\n",
    "model_error_average_ellipse = np.average(ellipse_errors)\n",
    "model_error_min_ellipse = np.min(ellipse_errors)\n",
    "model_error_max_ellipse = np.max(ellipse_errors)\n",
    "\n",
    "groups = (\"All shapes\", \"Circumferences\",\"Ellipses\")\n",
    "statistics = {\n",
    "    \"Min\": (model_error_min, model_error_min_circumference, model_error_min_ellipse),\n",
    "    \"Average\": (model_error_average, model_error_average_circumference, model_error_average_ellipse),\n",
    "    \"Max\": (model_error_max, model_error_max_circumference, model_error_max_ellipse),\n",
    "}\n",
    "\n",
    "plot_bar_groups(groups, statistics, \"MSE\")"
   ]
  }
 ],
 "metadata": {
  "kernelspec": {
   "display_name": "cfd_env",
   "language": "python",
   "name": "python3"
  },
  "language_info": {
   "codemirror_mode": {
    "name": "ipython",
    "version": 3
   },
   "file_extension": ".py",
   "mimetype": "text/x-python",
   "name": "python",
   "nbconvert_exporter": "python",
   "pygments_lexer": "ipython3",
   "version": "3.9.2"
  }
 },
 "nbformat": 4,
 "nbformat_minor": 2
}
