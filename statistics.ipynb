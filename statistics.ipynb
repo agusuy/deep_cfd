{
 "cells": [
  {
   "cell_type": "code",
   "execution_count": null,
   "metadata": {},
   "outputs": [],
   "source": [
    "import numpy as np\n",
    "import matplotlib.pyplot as plt\n",
    "from cfd_simulation.constants import SIM_STATS\n",
    "from cfd_model.constants import MODEL_STATS"
   ]
  },
  {
   "cell_type": "code",
   "execution_count": null,
   "metadata": {},
   "outputs": [],
   "source": [
    "simulation_durations = np.loadtxt(SIM_STATS, delimiter=',', skiprows=1)[:,1]\n",
    "model_durations = np.loadtxt(MODEL_STATS, delimiter=',', skiprows=1)[:,1]"
   ]
  },
  {
   "cell_type": "code",
   "execution_count": null,
   "metadata": {},
   "outputs": [],
   "source": [
    "simulation_duration_mean = round(np.mean(simulation_durations), 0)\n",
    "simulation_duration_min = round(np.min(simulation_durations), 0)\n",
    "simulation_duration_max = round(np.max(simulation_durations), 0)\n",
    "\n",
    "print(f\"{simulation_duration_mean=:}, {simulation_duration_min=:}, {simulation_duration_max=:}\")\n",
    "\n",
    "model_duration_mean = round(np.mean(model_durations), 0)\n",
    "model_duration_min = round(np.min(model_durations), 0)\n",
    "model_duration_max = round(np.max(model_durations), 0)\n",
    "\n",
    "print(f\"{model_duration_mean=:}, {model_duration_min=:}, {model_duration_max=:}\")\n",
    "\n",
    "groups = (\"Simulation\", \"DL Model\")\n",
    "statistics = {\n",
    "    \"Min\": (simulation_duration_min, model_duration_min),\n",
    "    \"Mean\": (simulation_duration_mean, model_duration_mean),\n",
    "    \"Max\": (simulation_duration_max, model_duration_max),\n",
    "}"
   ]
  },
  {
   "cell_type": "code",
   "execution_count": null,
   "metadata": {},
   "outputs": [],
   "source": [
    "x = np.arange(len(groups))  # the label locations\n",
    "width = 0.25  # the width of the bars\n",
    "multiplier = 0\n",
    "\n",
    "fig, ax = plt.subplots(layout='constrained')\n",
    "\n",
    "for attribute, stat in statistics.items():\n",
    "    offset = width * multiplier\n",
    "    rects = ax.bar(x + offset, stat, width, label=attribute)\n",
    "    ax.bar_label(rects, padding=3)\n",
    "    multiplier += 1\n",
    "\n",
    "# Add some text for labels, title and custom x-axis tick labels, etc.\n",
    "ax.set_ylabel('Duration (seconds)')\n",
    "ax.set_title('')\n",
    "ax.set_xticks(x + width, groups)\n",
    "ax.legend(loc='upper left', ncols=3)\n",
    "ax.set_ylim(0, 250)\n",
    "\n",
    "plt.show()"
   ]
  }
 ],
 "metadata": {
  "kernelspec": {
   "display_name": "cfd_env",
   "language": "python",
   "name": "python3"
  },
  "language_info": {
   "codemirror_mode": {
    "name": "ipython",
    "version": 3
   },
   "file_extension": ".py",
   "mimetype": "text/x-python",
   "name": "python",
   "nbconvert_exporter": "python",
   "pygments_lexer": "ipython3",
   "version": "3.9.2"
  }
 },
 "nbformat": 4,
 "nbformat_minor": 2
}
